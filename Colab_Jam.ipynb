{
  "nbformat": 4,
  "nbformat_minor": 0,
  "metadata": {
    "colab": {
      "provenance": [],
      "authorship_tag": "ABX9TyNVSXI8BEq4TG95fP16MlAG",
      "include_colab_link": true
    },
    "kernelspec": {
      "name": "python3",
      "display_name": "Python 3"
    },
    "language_info": {
      "name": "python"
    }
  },
  "cells": [
    {
      "cell_type": "markdown",
      "metadata": {
        "id": "view-in-github",
        "colab_type": "text"
      },
      "source": [
        "<a href=\"https://colab.research.google.com/github/neytcode/Colab_Study_Jam/blob/main/Colab_Jam.ipynb\" target=\"_parent\"><img src=\"https://colab.research.google.com/assets/colab-badge.svg\" alt=\"Open In Colab\"/></a>"
      ]
    },
    {
      "cell_type": "code",
      "execution_count": 3,
      "metadata": {
        "colab": {
          "base_uri": "https://localhost:8080/"
        },
        "id": "xRVHvC1J9AJc",
        "outputId": "e6c4820d-c06f-4b98-aeac-1b73d551f875"
      },
      "outputs": [
        {
          "output_type": "stream",
          "name": "stdout",
          "text": [
            "Hello wolrd\n"
          ]
        }
      ],
      "source": [
        "print('Hello wolrd')"
      ]
    },
    {
      "cell_type": "code",
      "source": [
        "def multiplier(a = 2, b= 5):\n",
        "  return a*b"
      ],
      "metadata": {
        "id": "4P8fpD4D-Age"
      },
      "execution_count": 4,
      "outputs": []
    },
    {
      "cell_type": "code",
      "source": [
        "c = multiplier()"
      ],
      "metadata": {
        "id": "7RrVQ5K2-C3V"
      },
      "execution_count": 5,
      "outputs": []
    },
    {
      "cell_type": "code",
      "source": [
        "print(c)"
      ],
      "metadata": {
        "colab": {
          "base_uri": "https://localhost:8080/"
        },
        "id": "7eG7clu2AqVr",
        "outputId": "18ff448a-ef24-4019-e87f-df90fb7bf7b3"
      },
      "execution_count": 6,
      "outputs": [
        {
          "output_type": "stream",
          "name": "stdout",
          "text": [
            "10\n"
          ]
        }
      ]
    },
    {
      "cell_type": "code",
      "source": [],
      "metadata": {
        "id": "g57ARPBsAsLT"
      },
      "execution_count": null,
      "outputs": []
    }
  ]
}